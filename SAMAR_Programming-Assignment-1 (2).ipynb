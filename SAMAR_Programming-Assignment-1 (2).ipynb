{
 "cells": [
  {
   "cell_type": "markdown",
   "id": "91ae92b9-7d4d-4b13-a2dd-8cdf1c1b7baa",
   "metadata": {},
   "source": [
    "### EXPERIMENT 1\n",
    "## INTRODUCTION TO PYTHON PROGRAMMING\n",
    "#### Name: Mariane Iszley V. Samar\n",
    "#### Section: 2ECE-D"
   ]
  },
  {
   "cell_type": "markdown",
   "id": "d3bafc2d-74d5-44d9-9e7e-66b06059b358",
   "metadata": {},
   "source": [
    "## ALPHABET SOUP PROBLEM"
   ]
  },
  {
   "cell_type": "code",
   "execution_count": 3,
   "id": "6590086d-da69-4644-a589-14cfabef5076",
   "metadata": {},
   "outputs": [],
   "source": [
    "def anyword(a): \n",
    "    clist = list(a) #to convert the string to list\n",
    "    clist.sort() #sorting the list\n",
    "    sorted = ''.join(clist) #to join the characters back into a list but alphabetically\n",
    "    return sorted"
   ]
  },
  {
   "cell_type": "code",
   "execution_count": 13,
   "id": "41b1c7aa-487c-437f-a2a1-cb15d5544040",
   "metadata": {},
   "outputs": [
    {
     "name": "stdout",
     "output_type": "stream",
     "text": [
      "aegnnnoy\n"
     ]
    }
   ],
   "source": [
    "#Example\n",
    "print(anyword(\"annyeong\"))  "
   ]
  },
  {
   "cell_type": "markdown",
   "id": "2931a4a6-c547-42ae-be7d-cfe25a07754f",
   "metadata": {},
   "source": [
    "## EMOTICON PROBLEM"
   ]
  },
  {
   "cell_type": "code",
   "execution_count": 7,
   "id": "edc4545f-517d-4b55-97c5-ebb5aa521db1",
   "metadata": {},
   "outputs": [],
   "source": [
    "def emote(sentence):\n",
    "    emoticonz = {\"smile\": \":)\", \"grin\": \":D\", \"sad\": \":(\", \"mad\": \">:(\"} #defining a dictionary to make the words convert to emoticons\n",
    "    words = sentence.split() #split the sentence to words\n",
    "    wow = [emoticonz.get(word, word) for word in words] #replace the words to emoticons\n",
    "    return ' '.join(wow) #join the words back into a string  "
   ]
  },
  {
   "cell_type": "code",
   "execution_count": 11,
   "id": "91f67918-57ab-4af9-aa4d-964ca4b65ae7",
   "metadata": {},
   "outputs": [
    {
     "name": "stdout",
     "output_type": "stream",
     "text": [
      "Make me :D and :(\n"
     ]
    }
   ],
   "source": [
    "#Example \n",
    "print(emote(\"Make me grin and sad\"))     "
   ]
  },
  {
   "cell_type": "markdown",
   "id": "2a06b35b-a6de-4a69-910f-ea2135af0125",
   "metadata": {},
   "source": [
    "## UNPACKING LIST PROBLEM"
   ]
  },
  {
   "cell_type": "code",
   "execution_count": 3,
   "id": "93bc9457-eb03-4dc3-a412-cd85acb4762b",
   "metadata": {},
   "outputs": [
    {
     "name": "stdout",
     "output_type": "stream",
     "text": [
      "first: 1\n",
      "middle: [2, 3, 4, 5]\n",
      "last: 6\n"
     ]
    }
   ],
   "source": [
    "list = [1, 2, 3, 4, 5, 6] #the list\n",
    "\n",
    "uno = list[0] #to print first index\n",
    "ultima = list[-1] #to print the last index\n",
    "medio = list[1:-1] #removing the first number and last number to print in the output\n",
    "\n",
    "print(f\"first: {uno}\") #printing results\n",
    "print(f\"middle: {medio}\")\n",
    "print(f\"last: {ultima}\")"
   ]
  }
 ],
 "metadata": {
  "kernelspec": {
   "display_name": "Python 3 (ipykernel)",
   "language": "python",
   "name": "python3"
  },
  "language_info": {
   "codemirror_mode": {
    "name": "ipython",
    "version": 3
   },
   "file_extension": ".py",
   "mimetype": "text/x-python",
   "name": "python",
   "nbconvert_exporter": "python",
   "pygments_lexer": "ipython3",
   "version": "3.12.4"
  }
 },
 "nbformat": 4,
 "nbformat_minor": 5
}
