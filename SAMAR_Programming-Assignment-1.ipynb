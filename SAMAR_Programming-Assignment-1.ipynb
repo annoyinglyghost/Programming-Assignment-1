{
 "cells": [
  {
   "cell_type": "markdown",
   "id": "91ae92b9-7d4d-4b13-a2dd-8cdf1c1b7baa",
   "metadata": {},
   "source": [
    "### EXPERIMENT 1\n",
    "## INTRODUCTION TO PYTHON PROGRAMMING\n",
    "#### Name: Mariane Iszley V. Samar\n",
    "#### Section: 2ECE-D"
   ]
  },
  {
   "cell_type": "markdown",
   "id": "d3bafc2d-74d5-44d9-9e7e-66b06059b358",
   "metadata": {},
   "source": [
    "## ALPHABET SOUP PROBLEM"
   ]
  },
  {
   "cell_type": "code",
   "execution_count": null,
   "id": "6590086d-da69-4644-a589-14cfabef5076",
   "metadata": {},
   "outputs": [],
   "source": [
    "def anyword(a): \n",
    "    \n",
    "    clist = list(a) #to convert the string to list\n",
    "    \n",
    "    clist.sort() #sorting the list\n",
    "    \n",
    "    sorted = ''.join(clist) #to join the characters back into a list but alphabetically\n",
    "    \n",
    "    return sorted\n",
    "\n",
    "#Example\n",
    "print(anyword(\"hello\"))  \n",
    "print(anyword(\"hacker\")) "
   ]
  },
  {
   "cell_type": "markdown",
   "id": "2931a4a6-c547-42ae-be7d-cfe25a07754f",
   "metadata": {},
   "source": [
    "## EMOTICON PROBLEM"
   ]
  },
  {
   "cell_type": "code",
   "execution_count": null,
   "id": "edc4545f-517d-4b55-97c5-ebb5aa521db1",
   "metadata": {},
   "outputs": [],
   "source": [
    "def emote(sentence):\n",
    "    \n",
    "    emoticonz = {\"smile\": \":)\", \"grin\": \":D\", \"sad\": \":(\", \"mad\": \">:(\"} #defining a dictionary to make the words convert to emoticons\n",
    "    \n",
    "    words = sentence.split() #split the sentence to words\n",
    "    \n",
    "    transformed_words = [emoticonz.get(word, word) for word in words] #replace the words to emoticons\n",
    "    \n",
    "    return ' '.join(transformed_words) #join the words back into a string\n",
    "\n",
    "#Example \n",
    "print(emote(\"Make me smile\"))  \n",
    "print(emote(\"I am mad\"))       "
   ]
  },
  {
   "cell_type": "markdown",
   "id": "2a06b35b-a6de-4a69-910f-ea2135af0125",
   "metadata": {},
   "source": [
    "## UNPACKING LIST PROBLEM"
   ]
  },
  {
   "cell_type": "code",
   "execution_count": null,
   "id": "93bc9457-eb03-4dc3-a412-cd85acb4762b",
   "metadata": {},
   "outputs": [],
   "source": [
    "list = [1, 2, 3, 4, 5, 6] #the list\n",
    "\n",
    "uno = list[0] #to print first index\n",
    "ultima = list[-1] #to print the last index\n",
    "medio = list[1:-1] #removing the first number and last number to print in the output\n",
    "\n",
    "print(f\"first: {uno}\") #printing results\n",
    "print(f\"middle: {medio}\")\n",
    "print(f\"last: {ultima}\")"
   ]
  }
 ],
 "metadata": {
  "kernelspec": {
   "display_name": "Python 3 (ipykernel)",
   "language": "python",
   "name": "python3"
  },
  "language_info": {
   "codemirror_mode": {
    "name": "ipython",
    "version": 3
   },
   "file_extension": ".py",
   "mimetype": "text/x-python",
   "name": "python",
   "nbconvert_exporter": "python",
   "pygments_lexer": "ipython3",
   "version": "3.12.4"
  }
 },
 "nbformat": 4,
 "nbformat_minor": 5
}
